{
 "cells": [
  {
   "cell_type": "markdown",
   "metadata": {},
   "source": [
    "<center>\n",
    "    <img src=\"https://s3-api.us-geo.objectstorage.softlayer.net/cf-courses-data/CognitiveClass/Logos/organization_logo/organization_logo.png\" width=\"300\" alt=\"cognitiveclass.ai logo\"  />\n",
    "</center>\n"
   ]
  },
  {
   "cell_type": "markdown",
   "metadata": {},
   "source": [
    "#### Add your code below following the instructions given in the course\n"
   ]
  },
  {
   "cell_type": "markdown",
   "metadata": {},
   "source": [
    "# My Jupyter Notebook on IBM Watson Studio"
   ]
  },
  {
   "cell_type": "markdown",
   "metadata": {},
   "source": [
    "**Dalhatu Muhammad Bala**\n",
    "\n",
    "Data Scientist"
   ]
  },
  {
   "cell_type": "markdown",
   "metadata": {},
   "source": [
    "*I am interested in data science because it will help me gain a wide array of new skills that will allow me to leverage data to aid companies with their business strategies, and explore exciting new fields developing from within data science fields like artificial intelligence, machine learning, big data, and more.*"
   ]
  },
  {
   "cell_type": "markdown",
   "metadata": {},
   "source": [
    "### Print Sequare of number 2"
   ]
  },
  {
   "cell_type": "code",
   "execution_count": 3,
   "metadata": {},
   "outputs": [
    {
     "name": "stdout",
     "output_type": "stream",
     "text": [
      "the square of 2 is: 4\n"
     ]
    }
   ],
   "source": [
    "print(f'the square of 2 is:', 2 ** 2)"
   ]
  },
  {
   "cell_type": "markdown",
   "metadata": {},
   "source": [
    "---\n",
    " \n",
    "1. Musa\n",
    "2. Isah\n",
    "3. Maryam\n",
    "\n",
    "- Maryma\n",
    "- Isah\n",
    "- Musa\n",
    "\n",
    "| Code | Description |\n",
    "| ----------- | ----------- |\n",
    "| Function | result |\n",
    "| print(f'the square of 2 is:', 2 ** 2) | the square of 2 is: 4 |\n",
    "\n",
    "[Skills Network Labs](https://labs.cognitiveclass.ai/tools/jupyterlab/)\n",
    "\n",
    "> print(f'the square of 2 is:', 2 ** 2)\n",
    "\n",
    "~~print(f'the square of 2 is:', 2 ** 2).~~"
   ]
  },
  {
   "cell_type": "code",
   "execution_count": null,
   "metadata": {},
   "outputs": [],
   "source": []
  }
 ],
 "metadata": {
  "kernelspec": {
   "display_name": "Python",
   "language": "python",
   "name": "conda-env-python-py"
  },
  "language_info": {
   "codemirror_mode": {
    "name": "ipython",
    "version": 3
   },
   "file_extension": ".py",
   "mimetype": "text/x-python",
   "name": "python",
   "nbconvert_exporter": "python",
   "pygments_lexer": "ipython3",
   "version": "3.7.12"
  }
 },
 "nbformat": 4,
 "nbformat_minor": 4
}
